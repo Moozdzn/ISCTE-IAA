{
 "cells": [
  {
   "cell_type": "markdown",
   "metadata": {},
   "source": [
    "# Exercício 1"
   ]
  },
  {
   "cell_type": "code",
   "execution_count": 30,
   "metadata": {},
   "outputs": [],
   "source": [
    "import random\n",
    "\n",
    "seed = 1000"
   ]
  },
  {
   "cell_type": "code",
   "execution_count": 31,
   "metadata": {},
   "outputs": [],
   "source": [
    "def bit_pattern(size):\n",
    "    string = \"\"\n",
    "    for i in range(size):\n",
    "        string = string + str(random.randint(0, 1))\n",
    "    return string"
   ]
  },
  {
   "cell_type": "code",
   "execution_count": 32,
   "metadata": {},
   "outputs": [
    {
     "name": "stdout",
     "output_type": "stream",
     "text": [
      "00110101\n"
     ]
    }
   ],
   "source": [
    "print(bit_pattern(8))"
   ]
  },
  {
   "cell_type": "markdown",
   "metadata": {},
   "source": [
    "# Exercício 2"
   ]
  },
  {
   "cell_type": "code",
   "execution_count": 35,
   "metadata": {},
   "outputs": [],
   "source": [
    "import time"
   ]
  },
  {
   "cell_type": "code",
   "execution_count": 36,
   "metadata": {},
   "outputs": [],
   "source": [
    "def guess_pattern(pattern):\n",
    "    pattern_size = len(pattern)\n",
    "    guess = bit_pattern(pattern_size)\n",
    "    tries = 0\n",
    "    while guess != pattern:\n",
    "        guess = bit_pattern(pattern_size)\n",
    "        tries = tries + 1\n",
    "    return tries"
   ]
  },
  {
   "cell_type": "code",
   "execution_count": 41,
   "metadata": {
    "scrolled": true
   },
   "outputs": [
    {
     "data": {
      "image/png": "[encoded data removed]",
      "text/plain": [
       "<Figure size 432x288 with 1 Axes>"
      ]
     },
     "metadata": {
      "needs_background": "light"
     },
     "output_type": "display_data"
    },
    {
     "data": {
      "image/png": "[encoded data removed]",
      "text/plain": [
       "<Figure size 432x288 with 1 Axes>"
      ]
     },
     "metadata": {
      "needs_background": "light"
     },
     "output_type": "display_data"
    }
   ],
   "source": [
    "runtimes = []\n",
    "attempts = []\n",
    "sizes = [8,16]\n",
    "random.seed(seed)\n",
    "for size in sizes:\n",
    "    trials = []\n",
    "    tries = []\n",
    "    for i in range(30):\n",
    "        start_time = time.time()\n",
    "        run = guess_pattern(bit_pattern(size))\n",
    "        end_time = time.time() - start_time\n",
    "        tries.append(run)\n",
    "        trials.append(end_time)\n",
    "    runtimes.append(trials)\n",
    "    attempts.append(tries)\n",
    "\n",
    "import matplotlib.pyplot as plt\n",
    "\n",
    "plt.boxplot(runtimes)\n",
    "plt.xticks([i+1 for i in range(len(sizes))], sizes)\n",
    "plt.show()\n",
    "\n",
    "plt.boxplot(attempts)\n",
    "plt.xticks([i+1 for i in range(len(sizes))], sizes)\n",
    "plt.show()\n"
   ]
  },
  {
   "cell_type": "markdown",
   "metadata": {},
   "source": [
    "Nota: No jupyter não consegui testar com 32 bits, fica indefinitivamente a correr"
   ]
  },
  {
   "cell_type": "markdown",
   "metadata": {},
   "source": [
    "# Exercício 3"
   ]
  },
  {
   "cell_type": "markdown",
   "metadata": {},
   "source": [
    "Esta função vê a percentagem de bits corretos do pattern aleatório face ao pattern correto. Pode ser usada para selecionar os melhores e depois aumentar a proximidade com uma mutation rate ou crossover."
   ]
  },
  {
   "cell_type": "code",
   "execution_count": 45,
   "metadata": {},
   "outputs": [],
   "source": [
    "def evaluate_pattern(guess, pattern):\n",
    "    pattern_size = len(pattern)\n",
    "    percentage = 100 / pattern_size\n",
    "    proximity = 0\n",
    "\n",
    "    for i in range(pattern_size):\n",
    "        if guess[i] == pattern[i]:\n",
    "            proximity = proximity + percentage\n",
    "\n",
    "    return proximity"
   ]
  },
  {
   "cell_type": "markdown",
   "metadata": {},
   "source": [
    "# Exercício 4"
   ]
  },
  {
   "cell_type": "markdown",
   "metadata": {},
   "source": [
    "Índices pares devem ser 0 e índices ímpares devem ser 1"
   ]
  },
  {
   "cell_type": "code",
   "execution_count": 104,
   "metadata": {},
   "outputs": [],
   "source": [
    "#01010101 - maximo para 8 bits\n",
    "def evaluate_pattern_2(guess,pattern):\n",
    "    pattern_size = len(pattern)\n",
    "    percentage = 100 / pattern_size\n",
    "    proximity = 0\n",
    "    for i in range(len(guess)):\n",
    "        if i%2 == 0:\n",
    "            if guess[i] == '0':\n",
    "                proximity = proximity + percentage   \n",
    "        else:\n",
    "            \n",
    "            if guess[i] == '1':\n",
    "                proximity = proximity + percentage\n",
    "    return proximity"
   ]
  },
  {
   "cell_type": "code",
   "execution_count": 103,
   "metadata": {},
   "outputs": [
    {
     "name": "stdout",
     "output_type": "stream",
     "text": [
      "100.0\n"
     ]
    }
   ],
   "source": [
    "print(evaluate_pattern_2('01010101','01010101'))"
   ]
  },
  {
   "cell_type": "markdown",
   "metadata": {},
   "source": [
    "# Exercício 5"
   ]
  },
  {
   "cell_type": "code",
   "execution_count": 63,
   "metadata": {},
   "outputs": [],
   "source": [
    "def mutate(guess, pattern):\n",
    "    initial_pattern = guess\n",
    "    proximity = evaluate_pattern(guess, pattern)\n",
    "    mutations = 0\n",
    "    while proximity < 100 and mutations != 1000:\n",
    "        mutation = list(guess)\n",
    "        bit_to_flip = random.randint(0, len(mutation) - 1)\n",
    "        if mutation[bit_to_flip] == \"1\":\n",
    "            mutation[bit_to_flip] = \"0\"\n",
    "        else:\n",
    "            mutation[bit_to_flip] = \"1\"\n",
    "        mutation_proximity = evaluate_pattern(mutation, pattern)\n",
    "\n",
    "        if mutation_proximity > proximity:\n",
    "            proximity = mutation_proximity\n",
    "            guess = \"\".join(mutation)\n",
    "\n",
    "        mutations = mutations + 1\n",
    "    return initial_pattern, guess, pattern, proximity, mutations"
   ]
  },
  {
   "cell_type": "code",
   "execution_count": 51,
   "metadata": {},
   "outputs": [
    {
     "name": "stdout",
     "output_type": "stream",
     "text": [
      "Pattern inicial gerado:  10110101000110101001011001000101 \n",
      "Pattern mutado vs pretendido:  00101100111001101111111100010010 - 00101100111001101111111100010010 \n",
      "Proximidade maxima:  100.0 Mutacoes ocorridas:  110\n"
     ]
    }
   ],
   "source": [
    "pattern_size = 32\n",
    "random.seed(seed)\n",
    "result = mutate(bit_pattern(pattern_size), bit_pattern(pattern_size))\n",
    "print('Pattern inicial gerado: ', result[0],'\\nPattern mutado vs pretendido: ',result[1],'-',result[2], '\\nProximidade maxima: ',result[3],'Mutacoes ocorridas: ',result[4])"
   ]
  },
  {
   "cell_type": "code",
   "execution_count": 53,
   "metadata": {},
   "outputs": [
    {
     "name": "stdout",
     "output_type": "stream",
     "text": [
      "Pattern inicial gerado:  1011010100011010100101100100010100101100111001101111111100010010 \n",
      "Pattern mutado vs pretendido:  1000111110100011110001111101000001000001010000010011001000010101 - 1000111110100011110001111101000001000001010000010011001000010101 \n",
      "Proximidade maxima:  100.0 Mutacoes ocorridas:  227\n"
     ]
    }
   ],
   "source": [
    "pattern_size = 64\n",
    "random.seed(seed)\n",
    "result = mutate(bit_pattern(pattern_size), bit_pattern(pattern_size))\n",
    "print('Pattern inicial gerado: ', result[0],'\\nPattern mutado vs pretendido: ',result[1],'-',result[2], '\\nProximidade maxima: ',result[3],'Mutacoes ocorridas: ',result[4])"
   ]
  },
  {
   "cell_type": "code",
   "execution_count": 61,
   "metadata": {},
   "outputs": [
    {
     "name": "stdout",
     "output_type": "stream",
     "text": [
      "Pattern inicial gerado:  10110101000110101001011001000101001011001110011011111111000100101000111110100011110001111101000001000001010000010011001000010101 \n",
      "Pattern mutado vs pretendido:  10010101100101010100000110011001011111100011101011010110100011000110100101111101111000001000010111001110000011101100100101010110 - 10010101100101010100000110011001011111100011101011010110100011000110100101111101111000001000010111001110000011101100100101010110 \n",
      "Proximidade maxima:  100.0 Mutacoes ocorridas:  699\n"
     ]
    }
   ],
   "source": [
    "pattern_size = 128\n",
    "random.seed(seed)\n",
    "result = mutate(bit_pattern(pattern_size), bit_pattern(pattern_size))\n",
    "print('Pattern inicial gerado: ', result[0],'\\nPattern mutado vs pretendido: ',result[1],'-',result[2], '\\nProximidade maxima: ',result[3],'Mutacoes ocorridas: ',result[4])"
   ]
  },
  {
   "cell_type": "code",
   "execution_count": 64,
   "metadata": {},
   "outputs": [
    {
     "name": "stdout",
     "output_type": "stream",
     "text": [
      "Pattern inicial gerado:  1011010100011010100101100100010100101100111001101111111100010010100011111010001111000111110100000100000101000001001100100001010110010101100101010100000110011001011111100011101011010110100011000110100101111101111000001000010111001110000011101100100101010110 \n",
      "Pattern mutado vs pretendido:  0100111011001100001101100111101000100111001010100010101001110101101101011100101010110100100100001100110000100101011101100101111101000000100110111000000111001010111011101000001011001001001110010111101101011010000111001011001111101000011100010001000010110110 - 0100111011001100001101100111101000100111001010100010101001110101101101011100101010110100100100001100110000100101011101100101111101000000100110111000000111001010111011101000000011001001001110010111101101011010000111001011001111101000011100010001000010110110 \n",
      "Proximidade maxima:  99.609375 Mutacoes ocorridas:  1000\n"
     ]
    }
   ],
   "source": [
    "pattern_size = 256\n",
    "random.seed(seed)\n",
    "result = mutate(bit_pattern(pattern_size), bit_pattern(pattern_size))\n",
    "print('Pattern inicial gerado: ', result[0],'\\nPattern mutado vs pretendido: ',result[1],'-',result[2], '\\nProximidade maxima: ',result[3],'Mutacoes ocorridas: ',result[4])"
   ]
  },
  {
   "cell_type": "markdown",
   "metadata": {},
   "source": [
    "Pattern mutado vs pretendido:  \n",
    "\n",
    "\n",
    "\n",
    "(...)0100000<b>1</b>011(...)\n",
    "\n",
    "(...)0100000<b>0</b>011(...)"
   ]
  },
  {
   "cell_type": "markdown",
   "metadata": {},
   "source": [
    "# Exercício 6"
   ]
  },
  {
   "cell_type": "code",
   "execution_count": 66,
   "metadata": {},
   "outputs": [],
   "source": [
    "def mutate(pattern_to_mutate):\n",
    "    mutation = list(pattern_to_mutate)\n",
    "    bit_to_flip = random.randint(0, len(mutation) - 1)\n",
    "    if mutation[bit_to_flip] == \"1\":\n",
    "        mutation[bit_to_flip] = \"0\"\n",
    "    else:\n",
    "        mutation[bit_to_flip] = \"1\"\n",
    "    mutated = \"\".join(mutation)\n",
    "\n",
    "    return mutated\n",
    "\n",
    "\n",
    "def generate_population(pattern_size, population_size):\n",
    "    pattern_lst = []\n",
    "    for i in range(population_size):\n",
    "        pattern_lst.append(bit_pattern(pattern_size))\n",
    "    return pattern_lst\n",
    "\n",
    "\n",
    "def get_best_population(pattern_lst, guess, pattern_size, population_size):\n",
    "    proximity_lst = []\n",
    "\n",
    "    for i in range(len(pattern_lst)):\n",
    "        proximity_lst.append(evaluate_pattern(guess, pattern_lst[i]))\n",
    "\n",
    "    best_population = []\n",
    "    current_proximity = 100\n",
    "    possible_proximity = 100 / pattern_size\n",
    "    while len(best_population) < population_size * 0.3:\n",
    "        for i in range(len(proximity_lst)):\n",
    "            if proximity_lst[i] == current_proximity:\n",
    "                best_population.append(pattern_lst[i])\n",
    "        if current_proximity == 0:\n",
    "            break\n",
    "        else:\n",
    "            current_proximity = current_proximity - possible_proximity\n",
    "\n",
    "    best_individual = pattern_lst[proximity_lst.index(max(proximity_lst))]\n",
    "    return best_population, int(max(proximity_lst)), best_individual\n",
    "\n",
    "\n",
    "def search(pattern_size, guess, population_size):\n",
    "    pattern_lst = generate_population(pattern_size, population_size)\n",
    "    best_population = get_best_population(pattern_lst, guess, pattern_size, population_size)\n",
    "    best_population_lst = best_population[0]\n",
    "    max_proximity = best_population[1]\n",
    "    best_individual = best_population[2]\n",
    "    stagnate = 0\n",
    "    iterations = 0\n",
    "    while stagnate != 20000:\n",
    "        new_population = []\n",
    "        while len(new_population) < 100:\n",
    "            pattern_to_mutate_idx = random.randint(0, len(best_population_lst) - 1)\n",
    "            new_population.append(mutate(best_population_lst[pattern_to_mutate_idx]))\n",
    "        best_population = get_best_population(new_population, guess, pattern_size, len(new_population))\n",
    "        best_population_lst = best_population[0]\n",
    "        if guess == best_population[2]:\n",
    "            print('Pattern Encontrado')\n",
    "            break\n",
    "        elif max_proximity <= best_population[1]:\n",
    "            stagnate = stagnate + 1\n",
    "        else:\n",
    "            max_proximity = best_population[1]\n",
    "            best_individual = best_population[2]\n",
    "            stagnate = 0\n",
    "        iterations = iterations + 1\n",
    "    return best_population[2], guess, iterations"
   ]
  },
  {
   "cell_type": "code",
   "execution_count": 70,
   "metadata": {},
   "outputs": [
    {
     "name": "stdout",
     "output_type": "stream",
     "text": [
      "Pattern Encontrado\n",
      "Melhor individuo: 10110101000110101001011001000101 \n",
      "Pattern pretendido: 10110101000110101001011001000101 \n",
      "Iteracoes: 400\n"
     ]
    }
   ],
   "source": [
    "random.seed(seed)\n",
    "bits=32\n",
    "results = search(bits, bit_pattern(bits), 100)\n",
    "print('Melhor individuo:', results[0], '\\nPattern pretendido:', results[1],'\\nIteracoes:',results[2])"
   ]
  },
  {
   "cell_type": "markdown",
   "metadata": {},
   "source": [
    "# Exercício 7"
   ]
  },
  {
   "cell_type": "code",
   "execution_count": 71,
   "metadata": {},
   "outputs": [],
   "source": [
    "def crossover(pattern_size, guess, population_size):\n",
    "    pattern_lst = generate_population(pattern_size, population_size)\n",
    "    best_population = get_best_population(pattern_lst, guess, pattern_size, population_size)\n",
    "    best_population_lst = best_population[0]\n",
    "    max_proximity = best_population[1]\n",
    "    stagnate = 0\n",
    "    mutation_rate = 0.05\n",
    "    iterations = 0\n",
    "    while stagnate < 20000:\n",
    "\n",
    "        new_population = best_population_lst\n",
    "        while len(new_population) != population_size:\n",
    "            parent_1 = random.choice(best_population_lst)\n",
    "            parent_2 = random.choice(best_population_lst)\n",
    "            idx = random.randint(0, len(parent_1)-1)\n",
    "            parent_1 = parent_1[idx:]\n",
    "            parent_2 = parent_2[:idx]\n",
    "            cross = parent_1 + parent_2\n",
    "            new_population.append(cross)\n",
    "        for i in range(len(best_population_lst)):\n",
    "            mutation = random.random()\n",
    "            if mutation < mutation_rate:\n",
    "                new_population[i] = mutate(new_population[i])\n",
    "        best_population = get_best_population(new_population, guess, pattern_size, len(new_population))\n",
    "        best_population_lst = best_population[0]\n",
    "        max_proximity = best_population[1]\n",
    "        if guess == best_population[2]:\n",
    "            print('Pattern Encontrado')\n",
    "            break\n",
    "        elif max_proximity <= best_population[1]:\n",
    "            stagnate = stagnate + 1\n",
    "        else:\n",
    "            max_proximity = best_population[1]\n",
    "            best_individual = best_population[2]\n",
    "            stagnate = 0\n",
    "\n",
    "        iterations = iterations + 1\n",
    "    return best_population[2], guess, max_proximity, iterations\n",
    "\n"
   ]
  },
  {
   "cell_type": "code",
   "execution_count": 73,
   "metadata": {},
   "outputs": [
    {
     "name": "stdout",
     "output_type": "stream",
     "text": [
      "Pattern Encontrado\n",
      "Melhor individuo: 10110101000110101001011001000101 \n",
      "Pattern pretendido: 10110101000110101001011001000101 Proximidade Maxima: 100 \n",
      "Iteracoes: 789\n"
     ]
    }
   ],
   "source": [
    "random.seed(seed)\n",
    "results = crossover(bits, bit_pattern(bits), 100)\n",
    "print('Melhor individuo:', results[0], '\\nPattern pretendido:', results[1],'Proximidade Maxima:',results[2],'\\nIteracoes:',results[3])"
   ]
  },
  {
   "cell_type": "markdown",
   "metadata": {},
   "source": [
    "# Exercício 8"
   ]
  },
  {
   "cell_type": "markdown",
   "metadata": {},
   "source": [
    "Relativamente as funções de mutação e crossover, se não sabemos o comprimento da solução, a função de mutação poderia remover ou adicionar bits e a função de crossover gerar patterns de diferentes tamanhos.\n"
   ]
  },
  {
   "cell_type": "markdown",
   "metadata": {},
   "source": [
    "# Exercício 9"
   ]
  },
  {
   "cell_type": "code",
   "execution_count": null,
   "metadata": {},
   "outputs": [],
   "source": []
  }
 ],
 "metadata": {
  "kernelspec": {
   "display_name": "Python 3",
   "language": "python",
   "name": "python3"
  },
  "language_info": {
   "codemirror_mode": {
    "name": "ipython",
    "version": 3
   },
   "file_extension": ".py",
   "mimetype": "text/x-python",
   "name": "python",
   "nbconvert_exporter": "python",
   "pygments_lexer": "ipython3",
   "version": "3.9.0"
  }
 },
 "nbformat": 4,
 "nbformat_minor": 4
}
