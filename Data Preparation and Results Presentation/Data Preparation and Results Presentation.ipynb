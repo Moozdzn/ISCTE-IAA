{
 "cells": [
  {
   "cell_type": "markdown",
   "metadata": {},
   "source": [
    "# Exercício 1"
   ]
  },
  {
   "cell_type": "code",
   "execution_count": 130,
   "metadata": {},
   "outputs": [],
   "source": [
    "import pandas as pd\n",
    "import numpy as np\n",
    "import matplotlib.pyplot as plt\n",
    "import math"
   ]
  },
  {
   "cell_type": "code",
   "execution_count": 106,
   "metadata": {
    "scrolled": true
   },
   "outputs": [
    {
     "name": "stdout",
     "output_type": "stream",
     "text": [
      "    0      1       2  3  4   5   6     7  8  9   10 11 12     13   14 15\n",
      "0    b  30.83   0.000  u  g   w   v  1.25  t  t   1  f  g  00202    0  +\n",
      "1    a  58.67   4.460  u  g   q   h  3.04  t  t   6  f  g  00043  560  +\n",
      "2    a  24.50   0.500  u  g   q   h  1.50  t  f   0  f  g  00280  824  +\n",
      "3    b  27.83   1.540  u  g   w   v  3.75  t  t   5  t  g  00100    3  +\n",
      "4    b  20.17   5.625  u  g   w   v  1.71  t  f   0  f  s  00120    0  +\n",
      "..  ..    ...     ... .. ..  ..  ..   ... .. ..  .. .. ..    ...  ... ..\n",
      "685  b  21.08  10.085  y  p   e   h  1.25  f  f   0  f  g  00260    0  -\n",
      "686  a  22.67   0.750  u  g   c   v  2.00  f  t   2  t  g  00200  394  -\n",
      "687  a  25.25  13.500  y  p  ff  ff  2.00  f  t   1  t  g  00200    1  -\n",
      "688  b  17.92   0.205  u  g  aa   v  0.04  f  f   0  f  g  00280  750  -\n",
      "689  b  35.00   3.375  u  g   c   h  8.29  f  f   0  t  g  00000    0  -\n",
      "\n",
      "[690 rows x 16 columns]\n"
     ]
    }
   ],
   "source": [
    "ds = pd.read_csv('crx.data', header=None)\n",
    "\n",
    "print(ds)"
   ]
  },
  {
   "cell_type": "markdown",
   "metadata": {},
   "source": [
    "# Exercício 2"
   ]
  },
  {
   "cell_type": "code",
   "execution_count": 352,
   "metadata": {},
   "outputs": [],
   "source": [
    "def equal_width(n_bin,col):\n",
    "    bins_bound=[]\n",
    "    bins= []\n",
    "    width= int((max(col) - min(col))/n_bin)\n",
    "    l_bound = int(min(col))\n",
    "    for i in range(n_bin):\n",
    "        bins_bound.append([l_bound, l_bound+width])\n",
    "        l_bound = l_bound+width+1\n",
    "    \n",
    "    for i in range(len(bins_bound)):\n",
    "        bin=[]\n",
    "        for j in range(len(col)):            \n",
    "            if bins_bound[i][0]<j<bins_bound[i][1]:\n",
    "                bin.append(j)\n",
    "        bins.append(bin)\n",
    "    return bins,bins_bound\n",
    "\n",
    "def equal_height(freq,col):\n",
    "    equal_width_bin = []\n",
    "    j = 0\n",
    "    for i in range(freq):\n",
    "        bin = []\n",
    "        while len(bin) != len(col) / freq:\n",
    "            bin.append(col[j])\n",
    "            j+=1\n",
    "        equal_width_bin.append(bin)\n",
    "    return equal_width_bin\n",
    "\n",
    "def missing_val(col):\n",
    "    idx_unk=[]\n",
    "    acc = 0\n",
    "    total = 0\n",
    "    for i in range(len(col)):\n",
    "        try:\n",
    "            col[i] = float(col[i])\n",
    "            acc += col[i]\n",
    "            total += 1\n",
    "        except ValueError as e:\n",
    "            #print('Missing record on line', i,'- Replacing by average')\n",
    "            idx_unk.append(i)\n",
    "    if len(idx_unk) > 0:\n",
    "        print('Missing record on lines', idx_unk,'- Replacing by average')\n",
    "    else:\n",
    "        print('No missing records')\n",
    "    avg = round(acc/total,2)\n",
    "    for i in idx_unk:\n",
    "        col[i] = avg\n",
    "    return col"
   ]
  },
  {
   "cell_type": "code",
   "execution_count": 353,
   "metadata": {},
   "outputs": [
    {
     "name": "stdout",
     "output_type": "stream",
     "text": [
      "Missing record on lines [83, 86, 92, 97, 254, 286, 329, 445, 450, 500, 515, 608] - Replacing by average\n"
     ]
    }
   ],
   "source": [
    "data_col = ds[1].tolist()\n",
    "\n",
    "data_col = missing_val(data_col)"
   ]
  },
  {
   "cell_type": "code",
   "execution_count": 387,
   "metadata": {},
   "outputs": [
    {
     "data": {
      "image/png": "[encoded data removed]",
      "text/plain": [
       "<Figure size 432x288 with 1 Axes>"
      ]
     },
     "metadata": {
      "needs_background": "light"
     },
     "output_type": "display_data"
    },
    {
     "data": {
      "image/png": "[encoded data removed]",
      "text/plain": [
       "<Figure size 432x288 with 1 Axes>"
      ]
     },
     "metadata": {
      "needs_background": "light"
     },
     "output_type": "display_data"
    },
    {
     "name": "stdout",
     "output_type": "stream",
     "text": [
      "690\n"
     ]
    },
    {
     "data": {
      "image/png": "[encoded data removed]",
      "text/plain": [
       "<Figure size 432x288 with 1 Axes>"
      ]
     },
     "metadata": {
      "needs_background": "light"
     },
     "output_type": "display_data"
    },
    {
     "data": {
      "image/png": "[encoded data removed]",
      "text/plain": [
       "<Figure size 432x288 with 1 Axes>"
      ]
     },
     "metadata": {
      "needs_background": "light"
     },
     "output_type": "display_data"
    }
   ],
   "source": [
    "plt.boxplot(equal_width(5,data_col)[0])\n",
    "plt.title('Equal-width')\n",
    "plt.show()\n",
    "plt.boxplot(equal_height(10,data_col))\n",
    "plt.title('Equal-height')\n",
    "plt.show()\n",
    "\n",
    "# Conversao para bar---------------------\n",
    "e_w = equal_width(5,data_col)\n",
    "e_h = equal_height(10,data_col)\n",
    "\n",
    "for i in range(len(e_h)):\n",
    "    e_h[i] = len(e_h[i])\n",
    "    \n",
    "label = []\n",
    "for i in range(len(e_w[1])):\n",
    "    s='' + str(e_w[1][i][0]) + '-'+str(e_w[1][i][1])\n",
    "    \n",
    "    label.append(s)\n",
    "for i in range(len(e_w[0])):\n",
    "    e_w[0][i] = len(e_w[0][i])\n",
    "#---------------------------------------\n",
    "\n",
    "plt.bar(label,e_w[0])\n",
    "plt.title('Equal-width')\n",
    "plt.show()\n",
    "plt.bar([i for i in range(10)],e_h)\n",
    "plt.title('Equal-height')\n",
    "plt.show()"
   ]
  },
  {
   "cell_type": "markdown",
   "metadata": {},
   "source": [
    "# Exercício 3"
   ]
  },
  {
   "cell_type": "markdown",
   "metadata": {},
   "source": [
    "## KNN"
   ]
  },
  {
   "cell_type": "code",
   "execution_count": 330,
   "metadata": {},
   "outputs": [],
   "source": [
    "def euclidean_distance(row1, row2):\n",
    "    distance = 0\n",
    "    for i in range(len(row1)-1):\n",
    "        #print(row1[i],row2[i])\n",
    "        distance = distance + math.pow(row1[i] - row2[i], 2)\n",
    "    return math.sqrt(distance)\n",
    "\n",
    "\n",
    "def get_n_neighbors(t_inputs, test_input, k):\n",
    "    distances = []\n",
    "    for i in range(len(t_inputs)):\n",
    "        distance = euclidean_distance(test_input, t_inputs[i])\n",
    "        distances.append((t_inputs[i], distance, t_inputs[i][len(t_inputs[i])-1]))\n",
    "    distances.sort(key=lambda tup: tup[1])\n",
    "    neighbors = []\n",
    "    for j in range(k):\n",
    "        neighbors.append(distances[j][2])\n",
    "    \n",
    "    return neighbors\n",
    "\n",
    "\n",
    "def predict(t_inputs, test_input, k):\n",
    "    inputs = test_input\n",
    "    neighbors = get_n_neighbors(t_inputs, inputs, k)\n",
    "    output_val = [row for row in neighbors]\n",
    "    prediction = max(set(output_val), key=output_val.count)\n",
    "    return prediction"
   ]
  },
  {
   "cell_type": "code",
   "execution_count": 331,
   "metadata": {},
   "outputs": [],
   "source": [
    "def normalization(arr,technique):\n",
    "    cols = arr.T.copy()\n",
    "    \n",
    "    if technique == 1:\n",
    "        for i in range(len(cols)-1):\n",
    "            for j in range(len(cols[i])):\n",
    "                cols[i][j] = (cols[i][j]-min(cols[i]))/(max(cols[i])-min(cols[i]))\n",
    "    else:\n",
    "        for i in range(len(cols)-1):\n",
    "            mean = np.mean(cols[i])\n",
    "            standard_deviation = np.std(cols[i])\n",
    "            for j in range(len(cols[i])):\n",
    "                cols[i][j] = (cols[i][j] - mean) / standard_deviation\n",
    "   \n",
    "    return cols.T\n",
    "\n",
    "def k_fold(dataset,k,knn):\n",
    "    acc_lst=[]\n",
    "    fold_size = int(len(dataset)/k)\n",
    "    folds=[]\n",
    "    for i in range(k):\n",
    "        fold = dataset[fold_size*i:fold_size*(i+1)]\n",
    "        folds.append(fold)\n",
    "    for i in range(len(folds)):\n",
    "        test = folds[i]\n",
    "        training = []\n",
    "        \n",
    "        for j in range(len(folds)):\n",
    "            if i != j:\n",
    "                for k in range(len(folds[j])):\n",
    "                    training.append(folds[j][k])\n",
    "        acc=0\n",
    "        for j in range(len(test)):\n",
    "            prediction = predict(training,test[j],knn)\n",
    "            if prediction == test[j][len(test[j])-1]:\n",
    "                acc += 1\n",
    "        acc_lst.append(acc/len(test))\n",
    "    return acc_lst\n",
    "        \n",
    "        "
   ]
  },
  {
   "cell_type": "code",
   "execution_count": 332,
   "metadata": {},
   "outputs": [
    {
     "name": "stdout",
     "output_type": "stream",
     "text": [
      "Column: 0\n",
      "Missing record on lines [83, 86, 92, 97, 254, 286, 329, 445, 450, 500, 515, 608] - Replacing by average\n",
      "Column: 1\n",
      "No missing records\n",
      "Column: 2\n",
      "No missing records\n",
      "Column: 3\n",
      "No missing records\n",
      "Column: 4\n",
      "Missing record on lines [71, 202, 206, 243, 270, 278, 330, 406, 445, 456, 592, 622, 626] - Replacing by average\n",
      "Column: 5\n",
      "No missing records\n"
     ]
    }
   ],
   "source": [
    "numerical_cols = ds.drop([0,3,4,5,6,8,9,11,12],axis = 1).to_numpy().T\n",
    "for i in range(len(numerical_cols)-1):\n",
    "    print('Column:',i)\n",
    "    numerical_cols[i] = missing_val(numerical_cols[i])"
   ]
  },
  {
   "cell_type": "code",
   "execution_count": 346,
   "metadata": {},
   "outputs": [
    {
     "data": {
      "image/png": "[encoded data removed]",
      "text/plain": [
       "<Figure size 432x288 with 1 Axes>"
      ]
     },
     "metadata": {
      "needs_background": "light"
     },
     "output_type": "display_data"
    }
   ],
   "source": [
    "numerical_cols = numerical_cols.T\n",
    "minmax_ds = normalization(numerical_cols,1)\n",
    "zscore_ds = normalization(numerical_cols,0)\n",
    "\n",
    "labels =['non-normalized','minmax-normalized','zscore-normalized']\n",
    "\n",
    "plt.boxplot([k_fold(numerical_cols,10,5),k_fold(minmax_ds,10,5),k_fold(zscore_ds,10,5)])\n",
    "plt.xticks([1,2,3], labels)\n",
    "plt.ylabel('Accuracy')\n",
    "plt.show()\n",
    "\n"
   ]
  },
  {
   "cell_type": "markdown",
   "metadata": {},
   "source": [
    "O set 'minmax-normalized' foi o que produziu um conjunto de accuracy mais constante, mas o 'zscore-normalized' o que produziu a accuracy mais alta."
   ]
  },
  {
   "cell_type": "markdown",
   "metadata": {},
   "source": [
    "# Exercício 4"
   ]
  },
  {
   "cell_type": "markdown",
   "metadata": {},
   "source": [
    "<p>-> Remover dados em falta ou substituí-los</p>\n",
    "<p>-> Normalizar os dados</p> \n",
    "<p>-> Selecionar um subset do dataset</p>"
   ]
  },
  {
   "cell_type": "markdown",
   "metadata": {},
   "source": [
    "# Exercício 5\n"
   ]
  },
  {
   "cell_type": "markdown",
   "metadata": {},
   "source": [
    "<b>a)</b>\n",
    "Tab.1"
   ]
  },
  {
   "cell_type": "code",
   "execution_count": 339,
   "metadata": {},
   "outputs": [
    {
     "name": "stdout",
     "output_type": "stream",
     "text": [
      "Tab.1\n",
      "Accuracy: 0.95\n",
      "Precision: 0\n",
      "Recall: 0.0\n",
      "F1 Score: 0\n"
     ]
    }
   ],
   "source": [
    "accuracy = (0 + 9500)/10000\n",
    "precision = 0 #0/(0+0)\n",
    "recall = 0/(0+500)\n",
    "f1_score = 0 #2*precision*recall/(precision+recall)\n",
    "\n",
    "print('Tab.1')\n",
    "print('Accuracy:', accuracy)\n",
    "print('Precision:', precision)\n",
    "print('Recall:', recall)\n",
    "print('F1 Score:', f1_score)\n"
   ]
  },
  {
   "cell_type": "markdown",
   "metadata": {},
   "source": [
    "Tab.2"
   ]
  },
  {
   "cell_type": "code",
   "execution_count": 344,
   "metadata": {},
   "outputs": [
    {
     "name": "stdout",
     "output_type": "stream",
     "text": [
      "Tab.1\n",
      "Accuracy: 0.75\n",
      "Precision: 0.8571428571428571\n",
      "Recall: 0.6\n",
      "F1 Score: 0.7058823529411764\n"
     ]
    }
   ],
   "source": [
    "accuracy = (300 + 450)/1000\n",
    "precision = 300/(300+50)\n",
    "recall = 300/(300+200)\n",
    "f1_score = 2*((precision*recall)/(precision+recall))\n",
    "\n",
    "print('Tab.1')\n",
    "print('Accuracy:', accuracy)\n",
    "print('Precision:', precision)\n",
    "print('Recall:', recall)\n",
    "print('F1 Score:', f1_score)"
   ]
  },
  {
   "cell_type": "markdown",
   "metadata": {},
   "source": [
    "<b>b)</b>\n",
    "\n",
    "A tabela 1 apesar de ter uma accuracy elevada, não conseguiu classificar corretamente nenhum dos exemplos positivos.\n",
    "A tabela 2 apesar de uma accuracy menor, tem valores atribuídos a precision e ao recall, com um F1 Score que dá mais confianca ao modelo. \n",
    "\n",
    "A qualidade do modelo da tabela 2 parece ser superior à da tabela 1."
   ]
  }
 ],
 "metadata": {
  "kernelspec": {
   "display_name": "Python 3",
   "language": "python",
   "name": "python3"
  },
  "language_info": {
   "codemirror_mode": {
    "name": "ipython",
    "version": 3
   },
   "file_extension": ".py",
   "mimetype": "text/x-python",
   "name": "python",
   "nbconvert_exporter": "python",
   "pygments_lexer": "ipython3",
   "version": "3.9.0"
  }
 },
 "nbformat": 4,
 "nbformat_minor": 4
}
